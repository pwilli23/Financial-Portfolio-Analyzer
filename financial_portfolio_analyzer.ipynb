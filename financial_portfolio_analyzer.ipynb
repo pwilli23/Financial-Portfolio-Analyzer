{
 "cells": [
  {
   "cell_type": "code",
   "execution_count": 1,
   "id": "c64c9ebe-330d-4313-91f0-5826f45ae1f2",
   "metadata": {},
   "outputs": [],
   "source": [
    "import os\n",
    "import json\n",
    "import requests\n",
    "import pandas as pd\n",
    "from dotenv import load_dotenv"
   ]
  },
  {
   "cell_type": "code",
   "execution_count": 2,
   "id": "662eeb9e-9c54-433c-9b01-0480e6f2d0a1",
   "metadata": {},
   "outputs": [],
   "source": [
    "# Load env environment variables\n",
    "load_dotenv()\n",
    "\n",
    "# Set crypto_api_key\n",
    "crypto_api_key = os.getenv('crypto_api_key')\n",
    "\n",
    "# Set the data endpoints\n",
    "btc_url = 'https://min-api.cryptocompare.com/data/v2/histoday?fsym=BTC&tsym=USD&limit=1115&api_key='\n",
    "eth_url = 'https://min-api.cryptocompare.com/data/v2/histoday?fsym=ETH&tsym=USD&limit=1115&api_key='\n",
    "matic_url = 'https://min-api.cryptocompare.com/data/v2/histoday?fsym=MATIC&tsym=USD&limit=1115&api_key='\n",
    "uni_url = 'https://min-api.cryptocompare.com/data/v2/histoday?fsym=UNI&tsym=USD&limit=1115&api_key='\n",
    "atom_url = 'https://min-api.cryptocompare.com/data/v2/histoday?fsym=ATOM&tsym=USD&limit=1115&api_key='\n",
    "\n",
    "# Concatenate endpoints and key\n",
    "btc_request_url = btc_url + crypto_api_key\n",
    "eth_request_url = eth_url + crypto_api_key\n",
    "matic_request_url = matic_url + crypto_api_key\n",
    "uni_request_url = uni_url + crypto_api_key\n",
    "atom_request_url = atom_url + crypto_api_key"
   ]
  },
  {
   "cell_type": "code",
   "execution_count": null,
   "id": "9c51d6c6-05d4-455d-a7df-90573aee2f6a",
   "metadata": {},
   "outputs": [],
   "source": [
    "# Fetch the bitcoin data, stored as json\n",
    "response_btc = requests.get(btc_request_url).json()\n",
    "\n",
    "# Displays the response data\n",
    "print(json.dumps(response_btc, indent=4, sort_keys=False))"
   ]
  },
  {
   "cell_type": "code",
   "execution_count": null,
   "id": "2cc10e83-4580-48dc-8119-9c5da9e3de97",
   "metadata": {},
   "outputs": [],
   "source": [
    "# Fetch the ethereum data, stored as json\n",
    "response_eth = requests.get(eth_request_url).json()\n",
    "\n",
    "# Displays the response data\n",
    "print(json.dumps(response_eth, indent=4, sort_keys=False))"
   ]
  },
  {
   "cell_type": "code",
   "execution_count": null,
   "id": "ab3cc80e-4fed-4383-8d53-c44ab446c910",
   "metadata": {},
   "outputs": [],
   "source": [
    "# Fetch the polygon data, stored as json\n",
    "response_matic = requests.get(matic_request_url).json()\n",
    "\n",
    "# Displays the response data\n",
    "print(json.dumps(response_matic, indent=4, sort_keys=False))"
   ]
  },
  {
   "cell_type": "code",
   "execution_count": null,
   "id": "844da1e4-dda5-42c9-a867-7f953deb50f4",
   "metadata": {},
   "outputs": [],
   "source": [
    "# Fetch the uniswap data, stored as json\n",
    "response_uni = requests.get(uni_request_url).json()\n",
    "\n",
    "# Displays the response data\n",
    "print(json.dumps(response_uni, indent=4, sort_keys=False))"
   ]
  },
  {
   "cell_type": "code",
   "execution_count": null,
   "id": "14406b39-d0eb-4dcc-b22d-ef48dc185974",
   "metadata": {},
   "outputs": [],
   "source": [
    "# Fetch the cosmos data, stored as json\n",
    "response_atom = requests.get(atom_request_url).json()\n",
    "\n",
    "# Displays the response data\n",
    "print(json.dumps(response_atom, indent=4, sort_keys=False))"
   ]
  },
  {
   "cell_type": "code",
   "execution_count": 8,
   "id": "e09b072c-aabd-418e-baee-b6a23d68fe54",
   "metadata": {},
   "outputs": [],
   "source": [
    "btc_high_price = []\n",
    "for data_point in response_btc['Data']['Data']:\n",
    "    btc_high_value = data_point.get('high')\n",
    "    btc_high_price.append(btc_high_value)"
   ]
  },
  {
   "cell_type": "code",
   "execution_count": 9,
   "id": "cbe4fddf-bbf6-4d5a-9983-46d91f6be31f",
   "metadata": {},
   "outputs": [],
   "source": [
    "eth_high_price = []\n",
    "for data_point in response_eth['Data']['Data']:\n",
    "    eth_high_value = data_point.get('high')\n",
    "    eth_high_price.append(eth_high_value)"
   ]
  },
  {
   "cell_type": "code",
   "execution_count": 10,
   "id": "722eda2a-2164-4c4b-b911-9d23bbd61b1a",
   "metadata": {},
   "outputs": [],
   "source": [
    "matic_high_price = []\n",
    "for data_point in response_matic['Data']['Data']:\n",
    "    matic_high_value = data_point.get('high')\n",
    "    matic_high_price.append(matic_high_value)"
   ]
  },
  {
   "cell_type": "code",
   "execution_count": 11,
   "id": "98bd5fa5-5458-40ab-82f2-00b78f75a9e1",
   "metadata": {},
   "outputs": [],
   "source": [
    "uni_high_price = []\n",
    "for data_point in response_uni['Data']['Data']:\n",
    "    uni_high_value = data_point.get('high')\n",
    "    uni_high_price.append(uni_high_value)"
   ]
  },
  {
   "cell_type": "code",
   "execution_count": 12,
   "id": "de9a6975-b71e-437c-af38-15284a0579a9",
   "metadata": {},
   "outputs": [],
   "source": [
    "atom_high_price = []\n",
    "for data_point in response_atom['Data']['Data']:\n",
    "    atom_high_value = data_point.get('high')\n",
    "    atom_high_price.append(atom_high_value)"
   ]
  },
  {
   "cell_type": "code",
   "execution_count": 13,
   "id": "f1fcb96e-681b-48e4-aaf0-a6ff2a6c1292",
   "metadata": {},
   "outputs": [
    {
     "data": {
      "text/html": [
       "<div>\n",
       "<style scoped>\n",
       "    .dataframe tbody tr th:only-of-type {\n",
       "        vertical-align: middle;\n",
       "    }\n",
       "\n",
       "    .dataframe tbody tr th {\n",
       "        vertical-align: top;\n",
       "    }\n",
       "\n",
       "    .dataframe thead th {\n",
       "        text-align: right;\n",
       "    }\n",
       "</style>\n",
       "<table border=\"1\" class=\"dataframe\">\n",
       "  <thead>\n",
       "    <tr style=\"text-align: right;\">\n",
       "      <th></th>\n",
       "      <th>Bitcoin</th>\n",
       "      <th>Ethereum</th>\n",
       "      <th>Polygon</th>\n",
       "      <th>Uniswap</th>\n",
       "      <th>Cosmos</th>\n",
       "    </tr>\n",
       "  </thead>\n",
       "  <tbody>\n",
       "    <tr>\n",
       "      <th>0</th>\n",
       "      <td>3938.75</td>\n",
       "      <td>145.16</td>\n",
       "      <td>0.000</td>\n",
       "      <td>0.00</td>\n",
       "      <td>0.00</td>\n",
       "    </tr>\n",
       "    <tr>\n",
       "      <th>1</th>\n",
       "      <td>3989.59</td>\n",
       "      <td>158.28</td>\n",
       "      <td>0.000</td>\n",
       "      <td>0.00</td>\n",
       "      <td>0.00</td>\n",
       "    </tr>\n",
       "    <tr>\n",
       "      <th>2</th>\n",
       "      <td>3965.52</td>\n",
       "      <td>152.90</td>\n",
       "      <td>0.000</td>\n",
       "      <td>0.00</td>\n",
       "      <td>0.00</td>\n",
       "    </tr>\n",
       "    <tr>\n",
       "      <th>3</th>\n",
       "      <td>3901.65</td>\n",
       "      <td>158.80</td>\n",
       "      <td>0.000</td>\n",
       "      <td>0.00</td>\n",
       "      <td>0.00</td>\n",
       "    </tr>\n",
       "    <tr>\n",
       "      <th>4</th>\n",
       "      <td>3926.92</td>\n",
       "      <td>160.54</td>\n",
       "      <td>0.000</td>\n",
       "      <td>0.00</td>\n",
       "      <td>0.00</td>\n",
       "    </tr>\n",
       "    <tr>\n",
       "      <th>...</th>\n",
       "      <td>...</td>\n",
       "      <td>...</td>\n",
       "      <td>...</td>\n",
       "      <td>...</td>\n",
       "      <td>...</td>\n",
       "    </tr>\n",
       "    <tr>\n",
       "      <th>1111</th>\n",
       "      <td>43484.21</td>\n",
       "      <td>3393.05</td>\n",
       "      <td>2.374</td>\n",
       "      <td>18.19</td>\n",
       "      <td>43.79</td>\n",
       "    </tr>\n",
       "    <tr>\n",
       "      <th>1112</th>\n",
       "      <td>43198.05</td>\n",
       "      <td>3358.54</td>\n",
       "      <td>2.453</td>\n",
       "      <td>17.95</td>\n",
       "      <td>44.51</td>\n",
       "    </tr>\n",
       "    <tr>\n",
       "      <th>1113</th>\n",
       "      <td>42682.77</td>\n",
       "      <td>3244.64</td>\n",
       "      <td>2.245</td>\n",
       "      <td>17.70</td>\n",
       "      <td>40.06</td>\n",
       "    </tr>\n",
       "    <tr>\n",
       "      <th>1114</th>\n",
       "      <td>42575.28</td>\n",
       "      <td>3174.98</td>\n",
       "      <td>2.142</td>\n",
       "      <td>16.22</td>\n",
       "      <td>38.14</td>\n",
       "    </tr>\n",
       "    <tr>\n",
       "      <th>1115</th>\n",
       "      <td>43513.14</td>\n",
       "      <td>3272.69</td>\n",
       "      <td>2.192</td>\n",
       "      <td>16.18</td>\n",
       "      <td>42.09</td>\n",
       "    </tr>\n",
       "  </tbody>\n",
       "</table>\n",
       "<p>1116 rows × 5 columns</p>\n",
       "</div>"
      ],
      "text/plain": [
       "       Bitcoin  Ethereum  Polygon  Uniswap  Cosmos\n",
       "0      3938.75    145.16    0.000     0.00    0.00\n",
       "1      3989.59    158.28    0.000     0.00    0.00\n",
       "2      3965.52    152.90    0.000     0.00    0.00\n",
       "3      3901.65    158.80    0.000     0.00    0.00\n",
       "4      3926.92    160.54    0.000     0.00    0.00\n",
       "...        ...       ...      ...      ...     ...\n",
       "1111  43484.21   3393.05    2.374    18.19   43.79\n",
       "1112  43198.05   3358.54    2.453    17.95   44.51\n",
       "1113  42682.77   3244.64    2.245    17.70   40.06\n",
       "1114  42575.28   3174.98    2.142    16.22   38.14\n",
       "1115  43513.14   3272.69    2.192    16.18   42.09\n",
       "\n",
       "[1116 rows x 5 columns]"
      ]
     },
     "execution_count": 13,
     "metadata": {},
     "output_type": "execute_result"
    }
   ],
   "source": [
    "crypto_data = {\n",
    "    'Bitcoin': btc_high_price,\n",
    "    'Ethereum': eth_high_price,\n",
    "    'Polygon': matic_high_price,\n",
    "    'Uniswap': uni_high_price,\n",
    "    'Cosmos': atom_high_price\n",
    "}\n",
    "# Creating a dataframe for the data\n",
    "crypto_data_df = pd.DataFrame(crypto_data)\n",
    "\n",
    "# Display the dataframe data\n",
    "crypto_data_df\n",
    "    "
   ]
  },
  {
   "cell_type": "code",
   "execution_count": null,
   "id": "d9249355-a147-410b-a231-a246cd3817d6",
   "metadata": {},
   "outputs": [],
   "source": []
  },
  {
   "cell_type": "code",
   "execution_count": null,
   "id": "6e1b6dc0-e54e-463e-a153-dd8ef93eea71",
   "metadata": {},
   "outputs": [],
   "source": []
  }
 ],
 "metadata": {
  "kernelspec": {
   "display_name": "Python 3.7.11 64-bit ('dev': conda)",
   "language": "python",
   "name": "python3711jvsc74a57bd04396f389b93e7269692bd3bea4c62813bbe379469bde939b058805f538feec11"
  },
  "language_info": {
   "codemirror_mode": {
    "name": "ipython",
    "version": 3
   },
   "file_extension": ".py",
   "mimetype": "text/x-python",
   "name": "python",
   "nbconvert_exporter": "python",
   "pygments_lexer": "ipython3",
   "version": "3.7.11"
  }
 },
 "nbformat": 4,
 "nbformat_minor": 5
}
